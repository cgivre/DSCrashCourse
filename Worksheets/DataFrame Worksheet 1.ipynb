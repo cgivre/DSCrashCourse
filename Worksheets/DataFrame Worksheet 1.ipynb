{
 "cells": [
  {
   "cell_type": "markdown",
   "metadata": {},
   "source": [
    "#DataFrame Worksheet 1"
   ]
  },
  {
   "cell_type": "code",
   "execution_count": 1,
   "metadata": {
    "collapsed": false
   },
   "outputs": [
    {
     "name": "stdout",
     "output_type": "stream",
     "text": [
      "Populating the interactive namespace from numpy and matplotlib\n"
     ]
    }
   ],
   "source": [
    "%pylab inline\n",
    "import pandas as pd\n",
    "import numpy as np\n",
    "import matplotlib.pyplot as plt \n",
    "pd.options.mode.chained_assignment = None"
   ]
  },
  {
   "cell_type": "markdown",
   "metadata": {
    "collapsed": true
   },
   "source": [
    "##Exercise 1\n",
    "In the ```/Data``` folder there is a file called ```twitter1.csv```.  Create a data frame of this data called twitterData.  We will be using this for subsequent exercises.  \n",
    "\n",
    "HINT: You probably will have to expirement with the encoding to get this to read.  A list of Python encodings is available here: https://docs.python.org/3/library/codecs.html#standard-encodings "
   ]
  },
  {
   "cell_type": "code",
   "execution_count": 5,
   "metadata": {
    "collapsed": false
   },
   "outputs": [],
   "source": [
    "twitterData = pd.read_csv('../../Data/twitter1.csv', encoding='latin-1')"
   ]
  },
  {
   "cell_type": "markdown",
   "metadata": {},
   "source": [
    "##Exercise 2\n",
    "In the ```/Data``` folder, there is an Excel spreadsheet containing a listing for every terrorist attack since 2006.  Create a DataFrame called ```terrorData``` which we will use later. "
   ]
  },
  {
   "cell_type": "code",
   "execution_count": 9,
   "metadata": {
    "collapsed": true
   },
   "outputs": [],
   "source": []
  },
  {
   "cell_type": "markdown",
   "metadata": {},
   "source": [
    "##Exercise 3\n",
    "In the ```/Data``` folder, there is an apache log file sample called ```apache-log-sample1.txt```.  Read this data into a DataFrame using the ```read_csv()``` function.  In order to make this work, you will have to use the ```sep``` option which specifies the field delimiting character as well as the ```quotechar``` argument. "
   ]
  },
  {
   "cell_type": "code",
   "execution_count": null,
   "metadata": {
    "collapsed": true
   },
   "outputs": [],
   "source": []
  },
  {
   "cell_type": "markdown",
   "metadata": {},
   "source": [
    "##Exercise 4\n",
    "Using the ```twitterData``` DataFrame and the commands we have learned thus far and create a Series called ```tweetCounts``` which contains the user name and how many tweets each user posted.  Next, output the top 10 \"tweeters\"."
   ]
  },
  {
   "cell_type": "code",
   "execution_count": 9,
   "metadata": {
    "collapsed": false
   },
   "outputs": [
    {
     "data": {
      "text/plain": [
       "HoolohaTube        155\n",
       "Rasu24             150\n",
       "HOOLOHASPORT       126\n",
       "mahboobali3        119\n",
       "EminemsRealWife    116\n",
       "byezekiel           89\n",
       "MyrtleMuelr         83\n",
       "LucindaFischer      79\n",
       "DebraRichayd        77\n",
       "JeanieNoble         70\n",
       "dtype: int64"
      ]
     },
     "execution_count": 9,
     "metadata": {},
     "output_type": "execute_result"
    }
   ],
   "source": [
    "twitterData['Username'].value_counts().head(10)"
   ]
  },
  {
   "cell_type": "markdown",
   "metadata": {},
   "source": [
    "##Exercise 5\n",
    "Using the original twitter data set, create a second DataFrame called ```twitterSummary``` which contains the following columns:\n",
    "* Username\n",
    "* Friends \n",
    "* Followers\n",
    "\n",
    "\n",
    "Next add a column called ```ffratio``` which contains the ratio of friends to followers."
   ]
  },
  {
   "cell_type": "code",
   "execution_count": 11,
   "metadata": {
    "collapsed": false
   },
   "outputs": [
    {
     "data": {
      "text/html": [
       "<div style=\"max-height:1000px;max-width:1500px;overflow:auto;\">\n",
       "<table border=\"1\" class=\"dataframe\">\n",
       "  <thead>\n",
       "    <tr style=\"text-align: right;\">\n",
       "      <th></th>\n",
       "      <th>Username</th>\n",
       "      <th>Friends</th>\n",
       "      <th>Followers</th>\n",
       "      <th>ffratio</th>\n",
       "    </tr>\n",
       "  </thead>\n",
       "  <tbody>\n",
       "    <tr>\n",
       "      <th>0</th>\n",
       "      <td>_prettybrown</td>\n",
       "      <td>1042</td>\n",
       "      <td>1538</td>\n",
       "      <td>0.677503</td>\n",
       "    </tr>\n",
       "    <tr>\n",
       "      <th>1</th>\n",
       "      <td>CarlyManning24</td>\n",
       "      <td>278</td>\n",
       "      <td>304</td>\n",
       "      <td>0.914474</td>\n",
       "    </tr>\n",
       "    <tr>\n",
       "      <th>2</th>\n",
       "      <td>madzLuvzLakers</td>\n",
       "      <td>619</td>\n",
       "      <td>1039</td>\n",
       "      <td>0.595765</td>\n",
       "    </tr>\n",
       "    <tr>\n",
       "      <th>3</th>\n",
       "      <td>_AyyJayy</td>\n",
       "      <td>203</td>\n",
       "      <td>204</td>\n",
       "      <td>0.995098</td>\n",
       "    </tr>\n",
       "    <tr>\n",
       "      <th>4</th>\n",
       "      <td>Akeemoneale</td>\n",
       "      <td>165</td>\n",
       "      <td>27</td>\n",
       "      <td>6.111111</td>\n",
       "    </tr>\n",
       "  </tbody>\n",
       "</table>\n",
       "</div>"
      ],
      "text/plain": [
       "         Username  Friends  Followers   ffratio\n",
       "0    _prettybrown     1042       1538  0.677503\n",
       "1  CarlyManning24      278        304  0.914474\n",
       "2  madzLuvzLakers      619       1039  0.595765\n",
       "3        _AyyJayy      203        204  0.995098\n",
       "4     Akeemoneale      165         27  6.111111"
      ]
     },
     "execution_count": 11,
     "metadata": {},
     "output_type": "execute_result"
    }
   ],
   "source": [
    "twitterSummary = twitterData[['Username', 'Friends', 'Followers']]\n",
    "twitterSummary['ffratio'] = twitterSummary['Friends'] / twitterSummary['Followers']\n",
    "twitterSummary.head()"
   ]
  },
  {
   "cell_type": "markdown",
   "metadata": {},
   "source": [
    "##Exercise 6\n",
    "Using the twitter data, find all the users with Facebook accounts and create a new column called ```FacebookID``` which contains the users' Facebook ID.  As you can see in the URL below, a user's Facebook ID can be found in the URL column, http://www.facebook.com/profile.php?id=5141860.  Extract this by using the ```str.extract``` function. Don't forget to remove all the invalid or empty IDs.  "
   ]
  },
  {
   "cell_type": "code",
   "execution_count": 16,
   "metadata": {
    "collapsed": false
   },
   "outputs": [
    {
     "data": {
      "text/html": [
       "<div style=\"max-height:1000px;max-width:1500px;overflow:auto;\">\n",
       "<table border=\"1\" class=\"dataframe\">\n",
       "  <thead>\n",
       "    <tr style=\"text-align: right;\">\n",
       "      <th></th>\n",
       "      <th>Primary Key</th>\n",
       "      <th>Service</th>\n",
       "      <th>Term</th>\n",
       "      <th>Username</th>\n",
       "      <th>Name</th>\n",
       "      <th>Update</th>\n",
       "      <th>Location</th>\n",
       "      <th>URL</th>\n",
       "      <th>Friends</th>\n",
       "      <th>Followers</th>\n",
       "      <th>Time(PDT)</th>\n",
       "      <th>City</th>\n",
       "      <th>State/Region</th>\n",
       "      <th>Country</th>\n",
       "      <th>Metro</th>\n",
       "      <th>Latitude</th>\n",
       "      <th>Longitude</th>\n",
       "      <th>FBID</th>\n",
       "    </tr>\n",
       "  </thead>\n",
       "  <tbody>\n",
       "    <tr>\n",
       "      <th>14</th>\n",
       "      <td>15</td>\n",
       "      <td>twitter</td>\n",
       "      <td>lakers</td>\n",
       "      <td>MrBAAD</td>\n",
       "      <td>Tashaun Williams</td>\n",
       "      <td>@goodyCHOOshoes haha im sorry for you then... ...</td>\n",
       "      <td>Miami</td>\n",
       "      <td>http://www.facebook.com/profile.php?id=5141860...</td>\n",
       "      <td>187</td>\n",
       "      <td>143</td>\n",
       "      <td>6/3/2010 17:00</td>\n",
       "      <td>Miami</td>\n",
       "      <td>FL</td>\n",
       "      <td>US</td>\n",
       "      <td>Miami-Fort Lauderdale-Pompano Beach FL</td>\n",
       "      <td>25.604410</td>\n",
       "      <td>-80.335216</td>\n",
       "      <td>514186015</td>\n",
       "    </tr>\n",
       "    <tr>\n",
       "      <th>84</th>\n",
       "      <td>85</td>\n",
       "      <td>twitter</td>\n",
       "      <td>lakers</td>\n",
       "      <td>Est_June3rd</td>\n",
       "      <td>Chuck K</td>\n",
       "      <td>hmmm im seein alot of new lakers fans on ma ti...</td>\n",
       "      <td>Pontiac,MI</td>\n",
       "      <td>http://www.facebook.com/profile.php?id=1060743...</td>\n",
       "      <td>1397</td>\n",
       "      <td>1606</td>\n",
       "      <td>6/3/2010 17:00</td>\n",
       "      <td>Pontiac</td>\n",
       "      <td>MI</td>\n",
       "      <td>US</td>\n",
       "      <td>Detroit-Warren-Livonia MI</td>\n",
       "      <td>42.668599</td>\n",
       "      <td>-83.290343</td>\n",
       "      <td>1060743307</td>\n",
       "    </tr>\n",
       "    <tr>\n",
       "      <th>169</th>\n",
       "      <td>170</td>\n",
       "      <td>twitter</td>\n",
       "      <td>lakers</td>\n",
       "      <td>WTFLOCKAA</td>\n",
       "      <td>Vijay Dua</td>\n",
       "      <td>#Lakers Game 1 leeeets fuckkinngggg gooooooo</td>\n",
       "      <td>â WORLDWIDE</td>\n",
       "      <td>http://www.facebook.com/profile.php?id=1567050...</td>\n",
       "      <td>453</td>\n",
       "      <td>299</td>\n",
       "      <td>6/3/2010 17:00</td>\n",
       "      <td>NaN</td>\n",
       "      <td>NaN</td>\n",
       "      <td>NaN</td>\n",
       "      <td>NaN</td>\n",
       "      <td>NaN</td>\n",
       "      <td>NaN</td>\n",
       "      <td>1567050070</td>\n",
       "    </tr>\n",
       "    <tr>\n",
       "      <th>173</th>\n",
       "      <td>174</td>\n",
       "      <td>twitter</td>\n",
       "      <td>lakers</td>\n",
       "      <td>SteSSyShOo</td>\n",
       "      <td>SteSsy</td>\n",
       "      <td>RT @LilDip_DreamBoi: ReTweet if you are a Lake...</td>\n",
       "      <td>Guadeloupe French West Indies</td>\n",
       "      <td>http://www.facebook.com/profile.php?id=1000003...</td>\n",
       "      <td>965</td>\n",
       "      <td>292</td>\n",
       "      <td>6/3/2010 17:00</td>\n",
       "      <td>NaN</td>\n",
       "      <td>NaN</td>\n",
       "      <td>NaN</td>\n",
       "      <td>NaN</td>\n",
       "      <td>NaN</td>\n",
       "      <td>NaN</td>\n",
       "      <td>100000382878368</td>\n",
       "    </tr>\n",
       "    <tr>\n",
       "      <th>638</th>\n",
       "      <td>639</td>\n",
       "      <td>twitter</td>\n",
       "      <td>lakers</td>\n",
       "      <td>GoodLookTy_BFA</td>\n",
       "      <td>Tyquan Moore</td>\n",
       "      <td>@Relly718 19 to 1 Lakers lol</td>\n",
       "      <td>Brooklyn, New York</td>\n",
       "      <td>http://www.facebook.com/profile.php?id=551167346</td>\n",
       "      <td>259</td>\n",
       "      <td>339</td>\n",
       "      <td>6/3/2010 17:02</td>\n",
       "      <td>Brooklyn</td>\n",
       "      <td>NY</td>\n",
       "      <td>US</td>\n",
       "      <td>New York-Northern New Jersey-Long Island NY-NJ-PA</td>\n",
       "      <td>40.645412</td>\n",
       "      <td>-73.958730</td>\n",
       "      <td>551167346</td>\n",
       "    </tr>\n",
       "  </tbody>\n",
       "</table>\n",
       "</div>"
      ],
      "text/plain": [
       "     Primary Key  Service    Term        Username              Name  \\\n",
       "14            15  twitter  lakers          MrBAAD  Tashaun Williams   \n",
       "84            85  twitter  lakers     Est_June3rd           Chuck K   \n",
       "169          170  twitter  lakers       WTFLOCKAA         Vijay Dua   \n",
       "173          174  twitter  lakers      SteSSyShOo            SteSsy   \n",
       "638          639  twitter  lakers  GoodLookTy_BFA      Tyquan Moore   \n",
       "\n",
       "                                                Update  \\\n",
       "14   @goodyCHOOshoes haha im sorry for you then... ...   \n",
       "84   hmmm im seein alot of new lakers fans on ma ti...   \n",
       "169       #Lakers Game 1 leeeets fuckkinngggg gooooooo   \n",
       "173  RT @LilDip_DreamBoi: ReTweet if you are a Lake...   \n",
       "638                       @Relly718 19 to 1 Lakers lol   \n",
       "\n",
       "                          Location  \\\n",
       "14                           Miami   \n",
       "84                      Pontiac,MI   \n",
       "169                  â WORLDWIDE   \n",
       "173  Guadeloupe French West Indies   \n",
       "638             Brooklyn, New York   \n",
       "\n",
       "                                                   URL  Friends  Followers  \\\n",
       "14   http://www.facebook.com/profile.php?id=5141860...      187        143   \n",
       "84   http://www.facebook.com/profile.php?id=1060743...     1397       1606   \n",
       "169  http://www.facebook.com/profile.php?id=1567050...      453        299   \n",
       "173  http://www.facebook.com/profile.php?id=1000003...      965        292   \n",
       "638   http://www.facebook.com/profile.php?id=551167346      259        339   \n",
       "\n",
       "          Time(PDT)      City State/Region Country  \\\n",
       "14   6/3/2010 17:00     Miami           FL      US   \n",
       "84   6/3/2010 17:00   Pontiac           MI      US   \n",
       "169  6/3/2010 17:00       NaN          NaN     NaN   \n",
       "173  6/3/2010 17:00       NaN          NaN     NaN   \n",
       "638  6/3/2010 17:02  Brooklyn           NY      US   \n",
       "\n",
       "                                                 Metro   Latitude  Longitude  \\\n",
       "14              Miami-Fort Lauderdale-Pompano Beach FL  25.604410 -80.335216   \n",
       "84                           Detroit-Warren-Livonia MI  42.668599 -83.290343   \n",
       "169                                                NaN        NaN        NaN   \n",
       "173                                                NaN        NaN        NaN   \n",
       "638  New York-Northern New Jersey-Long Island NY-NJ-PA  40.645412 -73.958730   \n",
       "\n",
       "                FBID  \n",
       "14         514186015  \n",
       "84        1060743307  \n",
       "169       1567050070  \n",
       "173  100000382878368  \n",
       "638        551167346  "
      ]
     },
     "execution_count": 16,
     "metadata": {},
     "output_type": "execute_result"
    }
   ],
   "source": [
    "twitterDataWithFB = twitterData[twitterData['URL'].fillna( value=\"\" ).str.contains( 'facebook.com/profile\\.php\\?id=')]\n",
    "twitterDataWithFB['FBID'] = twitterDataWithFB['URL'].str.extract( 'id=(\\d+)')\n",
    "twitterDataWithFB.head()"
   ]
  },
  {
   "cell_type": "code",
   "execution_count": null,
   "metadata": {
    "collapsed": true
   },
   "outputs": [],
   "source": []
  }
 ],
 "metadata": {
  "kernelspec": {
   "display_name": "Python 3",
   "language": "python",
   "name": "python3"
  },
  "language_info": {
   "codemirror_mode": {
    "name": "ipython",
    "version": 3
   },
   "file_extension": ".py",
   "mimetype": "text/x-python",
   "name": "python",
   "nbconvert_exporter": "python",
   "pygments_lexer": "ipython3",
   "version": "3.4.3"
  }
 },
 "nbformat": 4,
 "nbformat_minor": 0
}
